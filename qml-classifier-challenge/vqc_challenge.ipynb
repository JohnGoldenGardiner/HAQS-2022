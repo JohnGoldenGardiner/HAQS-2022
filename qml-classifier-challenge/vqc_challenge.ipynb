{
 "cells": [
  {
   "cell_type": "markdown",
   "metadata": {
    "tags": []
   },
   "source": [
    "# VQC Challenge\n",
    "\n",
    "In this challenge, you will use [Pennylane](https://github.com/PennyLaneAI/pennylane) and [Amazon Braket](https://github.com/aws/amazon-braket-examples) to implement a variational quantum classifier (VQC) to take on a supervised learning problem based on the work of [Havlíček et al. (2018)](https://arxiv.org/pdf/1804.11326.pdf). Complete each of the four TODOs in this notebook to construct and train a QML model to solve the binary classification task. You can use the `gen_binary.py` script to generate a new train/test dataset, and further test your model.\n",
    "\n",
    "A central feature of Amazon Braket is that its remote simulator can execute multiple circuits in parallel. This capability can be harnessed in PennyLane during circuit training, which requires lots of variations of a circuit to be executed. Hence, the PennyLane-Braket plugin provides a method for scalable optimization of large circuits with many parameters. After validating your implementation and successfully training using a local simulator, enable [qBraid quantum jobs](https://qbraid-qbraid.readthedocs-hosted.com/en/latest/cli/jobs.html) and test your binary classifier on remote quantum hardware using the [Amazon Braket Pennylane plugin](https://github.com/aws/amazon-braket-pennylane-plugin-python). See the resources linked below for more.\n",
    "\n",
    "*Important*:  Your final model must be tested with on a remote quantum device using the Amazon Braket Pennylane plugin. Submissions that do not interface with [Amazon Braket supported devices](https://docs.aws.amazon.com/braket/latest/developerguide/braket-devices.html) will not be eligible to be ranked on the leaderboard.\n",
    "\n",
    "#### Pennylane Resources:\n",
    "\n",
    "- [Quantum Embedding](https://pennylane.ai/qml/glossary/quantum_embedding.html)\n",
    "- [Quantum Feature Map](https://pennylane.ai/qml/glossary/quantum_feature_map.html)\n",
    "- [Circuit Ansatz](https://pennylane.ai/qml/glossary/circuit_ansatz.html)\n",
    "- [Variational Circuit](https://pennylane.ai/qml/glossary/variational_circuit.html)\n",
    "- [Quantum Gradient](https://pennylane.ai/qml/glossary/quantum_gradient.html)\n",
    "- [Variational Quantum Classifier](https://pennylane.ai/qml/demos/tutorial_variational_classifier.html)\n",
    "- [PennyLane-Braket Plugin](https://amazon-braket-pennylane-plugin-python.readthedocs.io/en/latest/)\n",
    "- [Computing gradients in parallel with Amazon Braket](https://pennylane.ai/qml/demos/braket-parallel-gradients.html)\n",
    "\n",
    "#### Amazon Braket Resources:\n",
    "\n",
    "- [Use PennyLane with Amazon Braket](https://docs.aws.amazon.com/braket/latest/developerguide/hybrid.html)\n",
    "- [Amazon Braket examples: hybrid quantum algorithms](https://github.com/aws/amazon-braket-examples/tree/main/examples/hybrid_quantum_algorithms)\n",
    "\n",
    "#### qBraid Resources:\n",
    "\n",
    "- [qBraid demo notebooks: quantum jobs](https://github.com/qBraid/qbraid-lab-demo/blob/main/qbraid_quantum_jobs.ipynb)\n",
    "- [qBraid CLI: quantum jobs commands](https://qbraid-qbraid.readthedocs-hosted.com/en/latest/cli/jobs.html)"
   ]
  },
  {
   "cell_type": "code",
   "execution_count": 1,
   "metadata": {},
   "outputs": [
    {
     "name": "stdout",
     "output_type": "stream",
     "text": [
      "\u001b[0;35mYou have already enabled qBraid Quantum Jobs in the haqs environment.\u001b[0m\n"
     ]
    }
   ],
   "source": [
    "!qbraid jobs enable haqs  # enable quantum jobs"
   ]
  },
  {
   "cell_type": "code",
   "execution_count": 2,
   "metadata": {},
   "outputs": [],
   "source": [
    "TEAM_NAME = \"Qualition\"  # enter team name"
   ]
  },
  {
   "cell_type": "code",
   "execution_count": 3,
   "metadata": {},
   "outputs": [],
   "source": [
    "import warnings\n",
    "\n",
    "warnings.filterwarnings(\"ignore\")\n",
    "\n",
    "import csv\n",
    "import json\n",
    "import os\n",
    "import time\n",
    "from itertools import chain, combinations\n",
    "\n",
    "import matplotlib.lines as mlines\n",
    "import matplotlib.pyplot as plt\n",
    "import pennylane as qml\n",
    "import pennylane.numpy as np\n",
    "from sklearn.model_selection import train_test_split\n",
    "from tqdm.notebook import tqdm"
   ]
  },
  {
   "cell_type": "markdown",
   "metadata": {},
   "source": [
    "## Load and visualize dataset"
   ]
  },
  {
   "cell_type": "markdown",
   "metadata": {},
   "source": [
    "To generate the data, two random vectors in the X-Z plane of the Bloch sphere are chosen. Around these two vectors, we randomly sample two sets of quantum data points; the task is to learn to distinguish the two sets.\n",
    "\n",
    "This binary dataset has been artificially generated to be perfectly classifiable using a suitable feature map."
   ]
  },
  {
   "cell_type": "code",
   "execution_count": 4,
   "metadata": {},
   "outputs": [],
   "source": [
    "# %run gen_binary.py  # uncomment to generate new train/test dataset"
   ]
  },
  {
   "cell_type": "code",
   "execution_count": 5,
   "metadata": {},
   "outputs": [
    {
     "ename": "JSONDecodeError",
     "evalue": "Expecting value: line 1 column 1 (char 0)",
     "output_type": "error",
     "traceback": [
      "\u001b[0;31m---------------------------------------------------------------------------\u001b[0m",
      "\u001b[0;31mJSONDecodeError\u001b[0m                           Traceback (most recent call last)",
      "Cell \u001b[0;32mIn [5], line 5\u001b[0m\n\u001b[1;32m      1\u001b[0m DATA_PATH \u001b[38;5;241m=\u001b[39m \u001b[38;5;124m\"\u001b[39m\u001b[38;5;124mdata/\u001b[39m\u001b[38;5;124m\"\u001b[39m\n\u001b[1;32m      3\u001b[0m file \u001b[38;5;241m=\u001b[39m \u001b[38;5;28mopen\u001b[39m(DATA_PATH \u001b[38;5;241m+\u001b[39m \u001b[38;5;124m\"\u001b[39m\u001b[38;5;124mparams.json\u001b[39m\u001b[38;5;124m\"\u001b[39m)\n\u001b[0;32m----> 5\u001b[0m params \u001b[38;5;241m=\u001b[39m \u001b[43mjson\u001b[49m\u001b[38;5;241;43m.\u001b[39;49m\u001b[43mload\u001b[49m\u001b[43m(\u001b[49m\u001b[43mfile\u001b[49m\u001b[43m)\u001b[49m\n\u001b[1;32m      6\u001b[0m delta \u001b[38;5;241m=\u001b[39m params[\u001b[38;5;124m\"\u001b[39m\u001b[38;5;124mdelta\u001b[39m\u001b[38;5;124m\"\u001b[39m]\n\u001b[1;32m      7\u001b[0m n_points \u001b[38;5;241m=\u001b[39m params[\u001b[38;5;124m\"\u001b[39m\u001b[38;5;124mn_points\u001b[39m\u001b[38;5;124m\"\u001b[39m]\n",
      "File \u001b[0;32m/opt/conda/lib/python3.9/json/__init__.py:293\u001b[0m, in \u001b[0;36mload\u001b[0;34m(fp, cls, object_hook, parse_float, parse_int, parse_constant, object_pairs_hook, **kw)\u001b[0m\n\u001b[1;32m    274\u001b[0m \u001b[38;5;28;01mdef\u001b[39;00m \u001b[38;5;21mload\u001b[39m(fp, \u001b[38;5;241m*\u001b[39m, \u001b[38;5;28mcls\u001b[39m\u001b[38;5;241m=\u001b[39m\u001b[38;5;28;01mNone\u001b[39;00m, object_hook\u001b[38;5;241m=\u001b[39m\u001b[38;5;28;01mNone\u001b[39;00m, parse_float\u001b[38;5;241m=\u001b[39m\u001b[38;5;28;01mNone\u001b[39;00m,\n\u001b[1;32m    275\u001b[0m         parse_int\u001b[38;5;241m=\u001b[39m\u001b[38;5;28;01mNone\u001b[39;00m, parse_constant\u001b[38;5;241m=\u001b[39m\u001b[38;5;28;01mNone\u001b[39;00m, object_pairs_hook\u001b[38;5;241m=\u001b[39m\u001b[38;5;28;01mNone\u001b[39;00m, \u001b[38;5;241m*\u001b[39m\u001b[38;5;241m*\u001b[39mkw):\n\u001b[1;32m    276\u001b[0m     \u001b[38;5;124;03m\"\"\"Deserialize ``fp`` (a ``.read()``-supporting file-like object containing\u001b[39;00m\n\u001b[1;32m    277\u001b[0m \u001b[38;5;124;03m    a JSON document) to a Python object.\u001b[39;00m\n\u001b[1;32m    278\u001b[0m \n\u001b[0;32m   (...)\u001b[0m\n\u001b[1;32m    291\u001b[0m \u001b[38;5;124;03m    kwarg; otherwise ``JSONDecoder`` is used.\u001b[39;00m\n\u001b[1;32m    292\u001b[0m \u001b[38;5;124;03m    \"\"\"\u001b[39;00m\n\u001b[0;32m--> 293\u001b[0m     \u001b[38;5;28;01mreturn\u001b[39;00m \u001b[43mloads\u001b[49m\u001b[43m(\u001b[49m\u001b[43mfp\u001b[49m\u001b[38;5;241;43m.\u001b[39;49m\u001b[43mread\u001b[49m\u001b[43m(\u001b[49m\u001b[43m)\u001b[49m\u001b[43m,\u001b[49m\n\u001b[1;32m    294\u001b[0m \u001b[43m        \u001b[49m\u001b[38;5;28;43mcls\u001b[39;49m\u001b[38;5;241;43m=\u001b[39;49m\u001b[38;5;28;43mcls\u001b[39;49m\u001b[43m,\u001b[49m\u001b[43m \u001b[49m\u001b[43mobject_hook\u001b[49m\u001b[38;5;241;43m=\u001b[39;49m\u001b[43mobject_hook\u001b[49m\u001b[43m,\u001b[49m\n\u001b[1;32m    295\u001b[0m \u001b[43m        \u001b[49m\u001b[43mparse_float\u001b[49m\u001b[38;5;241;43m=\u001b[39;49m\u001b[43mparse_float\u001b[49m\u001b[43m,\u001b[49m\u001b[43m \u001b[49m\u001b[43mparse_int\u001b[49m\u001b[38;5;241;43m=\u001b[39;49m\u001b[43mparse_int\u001b[49m\u001b[43m,\u001b[49m\n\u001b[1;32m    296\u001b[0m \u001b[43m        \u001b[49m\u001b[43mparse_constant\u001b[49m\u001b[38;5;241;43m=\u001b[39;49m\u001b[43mparse_constant\u001b[49m\u001b[43m,\u001b[49m\u001b[43m \u001b[49m\u001b[43mobject_pairs_hook\u001b[49m\u001b[38;5;241;43m=\u001b[39;49m\u001b[43mobject_pairs_hook\u001b[49m\u001b[43m,\u001b[49m\u001b[43m \u001b[49m\u001b[38;5;241;43m*\u001b[39;49m\u001b[38;5;241;43m*\u001b[39;49m\u001b[43mkw\u001b[49m\u001b[43m)\u001b[49m\n",
      "File \u001b[0;32m/opt/conda/lib/python3.9/json/__init__.py:346\u001b[0m, in \u001b[0;36mloads\u001b[0;34m(s, cls, object_hook, parse_float, parse_int, parse_constant, object_pairs_hook, **kw)\u001b[0m\n\u001b[1;32m    341\u001b[0m     s \u001b[38;5;241m=\u001b[39m s\u001b[38;5;241m.\u001b[39mdecode(detect_encoding(s), \u001b[38;5;124m'\u001b[39m\u001b[38;5;124msurrogatepass\u001b[39m\u001b[38;5;124m'\u001b[39m)\n\u001b[1;32m    343\u001b[0m \u001b[38;5;28;01mif\u001b[39;00m (\u001b[38;5;28mcls\u001b[39m \u001b[38;5;129;01mis\u001b[39;00m \u001b[38;5;28;01mNone\u001b[39;00m \u001b[38;5;129;01mand\u001b[39;00m object_hook \u001b[38;5;129;01mis\u001b[39;00m \u001b[38;5;28;01mNone\u001b[39;00m \u001b[38;5;129;01mand\u001b[39;00m\n\u001b[1;32m    344\u001b[0m         parse_int \u001b[38;5;129;01mis\u001b[39;00m \u001b[38;5;28;01mNone\u001b[39;00m \u001b[38;5;129;01mand\u001b[39;00m parse_float \u001b[38;5;129;01mis\u001b[39;00m \u001b[38;5;28;01mNone\u001b[39;00m \u001b[38;5;129;01mand\u001b[39;00m\n\u001b[1;32m    345\u001b[0m         parse_constant \u001b[38;5;129;01mis\u001b[39;00m \u001b[38;5;28;01mNone\u001b[39;00m \u001b[38;5;129;01mand\u001b[39;00m object_pairs_hook \u001b[38;5;129;01mis\u001b[39;00m \u001b[38;5;28;01mNone\u001b[39;00m \u001b[38;5;129;01mand\u001b[39;00m \u001b[38;5;129;01mnot\u001b[39;00m kw):\n\u001b[0;32m--> 346\u001b[0m     \u001b[38;5;28;01mreturn\u001b[39;00m \u001b[43m_default_decoder\u001b[49m\u001b[38;5;241;43m.\u001b[39;49m\u001b[43mdecode\u001b[49m\u001b[43m(\u001b[49m\u001b[43ms\u001b[49m\u001b[43m)\u001b[49m\n\u001b[1;32m    347\u001b[0m \u001b[38;5;28;01mif\u001b[39;00m \u001b[38;5;28mcls\u001b[39m \u001b[38;5;129;01mis\u001b[39;00m \u001b[38;5;28;01mNone\u001b[39;00m:\n\u001b[1;32m    348\u001b[0m     \u001b[38;5;28mcls\u001b[39m \u001b[38;5;241m=\u001b[39m JSONDecoder\n",
      "File \u001b[0;32m/opt/conda/lib/python3.9/json/decoder.py:337\u001b[0m, in \u001b[0;36mJSONDecoder.decode\u001b[0;34m(self, s, _w)\u001b[0m\n\u001b[1;32m    332\u001b[0m \u001b[38;5;28;01mdef\u001b[39;00m \u001b[38;5;21mdecode\u001b[39m(\u001b[38;5;28mself\u001b[39m, s, _w\u001b[38;5;241m=\u001b[39mWHITESPACE\u001b[38;5;241m.\u001b[39mmatch):\n\u001b[1;32m    333\u001b[0m     \u001b[38;5;124;03m\"\"\"Return the Python representation of ``s`` (a ``str`` instance\u001b[39;00m\n\u001b[1;32m    334\u001b[0m \u001b[38;5;124;03m    containing a JSON document).\u001b[39;00m\n\u001b[1;32m    335\u001b[0m \n\u001b[1;32m    336\u001b[0m \u001b[38;5;124;03m    \"\"\"\u001b[39;00m\n\u001b[0;32m--> 337\u001b[0m     obj, end \u001b[38;5;241m=\u001b[39m \u001b[38;5;28;43mself\u001b[39;49m\u001b[38;5;241;43m.\u001b[39;49m\u001b[43mraw_decode\u001b[49m\u001b[43m(\u001b[49m\u001b[43ms\u001b[49m\u001b[43m,\u001b[49m\u001b[43m \u001b[49m\u001b[43midx\u001b[49m\u001b[38;5;241;43m=\u001b[39;49m\u001b[43m_w\u001b[49m\u001b[43m(\u001b[49m\u001b[43ms\u001b[49m\u001b[43m,\u001b[49m\u001b[43m \u001b[49m\u001b[38;5;241;43m0\u001b[39;49m\u001b[43m)\u001b[49m\u001b[38;5;241;43m.\u001b[39;49m\u001b[43mend\u001b[49m\u001b[43m(\u001b[49m\u001b[43m)\u001b[49m\u001b[43m)\u001b[49m\n\u001b[1;32m    338\u001b[0m     end \u001b[38;5;241m=\u001b[39m _w(s, end)\u001b[38;5;241m.\u001b[39mend()\n\u001b[1;32m    339\u001b[0m     \u001b[38;5;28;01mif\u001b[39;00m end \u001b[38;5;241m!=\u001b[39m \u001b[38;5;28mlen\u001b[39m(s):\n",
      "File \u001b[0;32m/opt/conda/lib/python3.9/json/decoder.py:355\u001b[0m, in \u001b[0;36mJSONDecoder.raw_decode\u001b[0;34m(self, s, idx)\u001b[0m\n\u001b[1;32m    353\u001b[0m     obj, end \u001b[38;5;241m=\u001b[39m \u001b[38;5;28mself\u001b[39m\u001b[38;5;241m.\u001b[39mscan_once(s, idx)\n\u001b[1;32m    354\u001b[0m \u001b[38;5;28;01mexcept\u001b[39;00m \u001b[38;5;167;01mStopIteration\u001b[39;00m \u001b[38;5;28;01mas\u001b[39;00m err:\n\u001b[0;32m--> 355\u001b[0m     \u001b[38;5;28;01mraise\u001b[39;00m JSONDecodeError(\u001b[38;5;124m\"\u001b[39m\u001b[38;5;124mExpecting value\u001b[39m\u001b[38;5;124m\"\u001b[39m, s, err\u001b[38;5;241m.\u001b[39mvalue) \u001b[38;5;28;01mfrom\u001b[39;00m \u001b[38;5;28mNone\u001b[39m\n\u001b[1;32m    356\u001b[0m \u001b[38;5;28;01mreturn\u001b[39;00m obj, end\n",
      "\u001b[0;31mJSONDecodeError\u001b[0m: Expecting value: line 1 column 1 (char 0)"
     ]
    }
   ],
   "source": [
    "DATA_PATH = \"data/\"\n",
    "\n",
    "file = open(DATA_PATH + \"params.json\")\n",
    "\n",
    "params = json.load(file)\n",
    "delta = params[\"delta\"]\n",
    "n_points = params[\"n_points\"]\n",
    "\n",
    "file.close()\n",
    "\n",
    "# Load data\n",
    "Xs = np.zeros(shape=(n_points, 2))\n",
    "Ys = np.zeros(shape=(n_points,))\n",
    "\n",
    "with open(DATA_PATH + \"binary_data.csv\", mode=\"r\") as file:\n",
    "    csvFile = csv.reader(file)\n",
    "    for i, row in enumerate(csvFile):\n",
    "        Xs[i] = np.array([float(row[0]), float(row[1])])\n",
    "        Ys[i] = float(row[2])\n",
    "        if i == n_points:\n",
    "            break\n",
    "\n",
    "n_samples = 200  # number of train/test samples\n",
    "X_data, Y_data = Xs[:n_samples], Ys[:n_samples]\n",
    "X_train, X_test, Y_train, Y_test = train_test_split(X_data, Y_data) #train_test_split was imported from sklearn.model_selection"
   ]
  },
  {
   "cell_type": "code",
   "execution_count": null,
   "metadata": {
    "tags": []
   },
   "outputs": [],
   "source": [
    "split_xs = lambda x: [[x[i][j] for i in range(len(x))] for j in [0, 1]]\n",
    "\n",
    "xi, xj = split_xs(Xs)\n",
    "xi_train, xj_train = split_xs(X_train)\n",
    "xi_test, xj_test = split_xs(X_test)\n",
    "\n",
    "label_circle = mlines.Line2D(\n",
    "    [],\n",
    "    [],\n",
    "    color=\"none\",\n",
    "    marker=\"o\",\n",
    "    markerfacecolor=\"none\",\n",
    "    markeredgecolor=\"black\",\n",
    "    label=f\"Train ({len(X_train)})\",\n",
    ")\n",
    "label_square = mlines.Line2D(\n",
    "    [],\n",
    "    [],\n",
    "    color=\"none\",\n",
    "    marker=\"s\",\n",
    "    markerfacecolor=\"none\",\n",
    "    markeredgecolor=\"black\",\n",
    "    label=f\"Test ({len(X_test)})\",\n",
    ")\n",
    "\n",
    "plt.scatter(xi, xj, marker=\"o\", c=[\"r\" if v == 1.0 else \"b\" for v in Ys])\n",
    "plt.scatter(xi_train, xj_train, c=[\"k\" if v == 1.0 else \"y\" for v in Y_train])\n",
    "plt.scatter(xi_test, xj_test, marker=\"s\", c=[\"k\" if v == 1.0 else \"y\" for v in Y_test])\n",
    "plt.xticks([0, 2 * np.pi], [r\"$0$\", r\"$2\\pi$\"])\n",
    "plt.yticks([0, 2 * np.pi], [r\"$0$\", r\"$2\\pi$\"])\n",
    "plt.xlabel(\"$\\\\theta$\")\n",
    "plt.ylabel(\"$\\phi$\")\n",
    "plt.legend(handles=[label_circle, label_square], loc=\"upper right\")\n",
    "plt.title(f\"Classification Data, $\\Delta = {delta}$\")\n",
    "plt.savefig(DATA_PATH + \"binary_landscape.png\")\n",
    "plt.show()"
   ]
  },
  {
   "cell_type": "markdown",
   "metadata": {},
   "source": [
    "An arbitrary single qubit state can be written:\n",
    "\n",
    "$$ \\left| \\psi \\right\\rangle = e^{i \\gamma} \\big(\\cos \\frac{\\theta}{2}\\left|0\\right\\rangle + e^{i \\phi} \\sin \\frac{\\theta}{2}\\left|1\\right\\rangle \\big) $$ \n",
    "\n",
    "where $\\theta$, $\\phi$ and $\\gamma$ are real numbers. The numbers $0 \\leq \\theta \\leq \\pi$ and $0 \\leq \\phi \\leq 2\\pi$ define a point on the Bloch sphere."
   ]
  },
  {
   "cell_type": "markdown",
   "metadata": {},
   "source": [
    "## Construct data encoding feature map with entanglement $\\left| \\Phi(x_i) \\right\\rangle \\left\\langle \\Phi(x_i) \\right|  $\n",
    "\n",
    "The feature map is an injective encoding of the classical data $\\textbf{x} \\in {\\rm I\\!R}^d$ into a quantum state $\\left| \\Phi \\right\\rangle \\left\\langle \\Phi \\right|$. Implement the following unitary feature map onto $n$-qubits, where $H$ denotes the conventional Hadamard gate:\n",
    "\n",
    "$$\\left|\\Phi(\\textbf{x})\\right\\rangle = \\mathcal{U}_{\\Phi(\\textbf{x})}\\left|0\\right\\rangle^{\\otimes n} = U_{\\Phi(\\textbf{x})}H^{\\otimes n} U_{\\Phi(\\textbf{x})}H^{\\otimes n} \\left|0\\right\\rangle^{\\otimes n}$$\n",
    "where,\n",
    "$$U_{\\Phi(\\textbf{x})} = \\exp\\bigg(i \\sum_{S \\subseteq [n]} \\phi_S(\\textbf{x}) \\prod_{i \\in S} Z_i \\bigg)$$\n",
    "where the $2^n$ coefficients $\\phi(\\textbf{x}) \\in {\\rm I\\!R}$ are now non-linear functions of the input data $\\textbf{x} \\in {\\rm I\\!R}^n$. In general, maps with low degree expansions $|S| \\leq d$ can be implemented efficiently. As in the original paper, use $n=d=2$."
   ]
  },
  {
   "cell_type": "code",
   "execution_count": null,
   "metadata": {},
   "outputs": [],
   "source": [
    "def encode_data(x):\n",
    "    \"\"\"Non-linear encoding (transformation) of one input data vector\n",
    "\n",
    "    Args:\n",
    "        x : shape (2,) tensor containing one input data vector\n",
    "\n",
    "    Returns:\n",
    "        triple of data encoded coefficients phi_1, phi_2, phi_{1,2}\n",
    "    \"\"\"\n",
    "\n",
    "    return x[0], x[1], (np.pi - x[0]) * (np.pi - x[1])"
   ]
  },
  {
   "cell_type": "markdown",
   "metadata": {},
   "source": [
    "Considering only Ising type interactions ($d=2$), the unitaries are generated from one- and two- big gates of the form\n",
    "\n",
    "$$U_{\\phi_{\\{k\\}}(\\textbf{x})} = \\exp\\big(i\\phi_{\\{k\\}}(\\textbf{x})Z_k \\big)$$\n",
    "$$U_{\\phi_{\\{l,m\\}}(\\textbf{x})} = \\exp\\big(i\\phi_{\\{k,l\\}}(\\textbf{x})Z_kZ_l\\big)$$\n",
    "\n",
    "where we have followed Havlíček et al. and chosen $\\phi_{\\{ i \\}} = x_i$ and $\\phi_{\\{ 1,2 \\}} = (\\pi - x_1)(\\pi - x_2)$ "
   ]
  },
  {
   "cell_type": "code",
   "execution_count": null,
   "metadata": {},
   "outputs": [],
   "source": [
    "def feature_map(x):\n",
    "    \"\"\"Short depth feature map with entanglement\n",
    "\n",
    "    Args:\n",
    "        x : shape (3,) tensor containing one encoded data vector\n",
    "    \"\"\"\n",
    "\n",
    "    # A simplification of the feature map circuit used by gen_binary.py\n",
    "    qml.RX(x[0], wires = 0)\n",
    "    qml.RX(x[1] + x[2], wires = 1)\n",
    "    "
   ]
  },
  {
   "cell_type": "markdown",
   "metadata": {},
   "source": [
    "## Construct short-depth discriminator circuit $W(\\theta)$\n",
    "\n",
    "The general short-depth circuit to define a seperating hyperplane is comprised of the following sequence of single qubit and multi-qubit gates:\n",
    "\n",
    "$$ W(\\theta) = U_{loc}^{(l)}(\\theta_l)U_{ent}...U_{loc}^{(2)}(\\theta_2)U_{ent}U_{loc}^{(1)}(\\theta_1) $$\n",
    "\n",
    "\n",
    "Apply a circuit of $l$ repeated entanglers and interleave them with layers comprised of local single qubit rotations:\n",
    "\n",
    "$$ U_{loc}^{(t)}(\\theta_t) = \\otimes_{m=1}^n U(\\theta_{m,t}) \\quad \\text{and} \\quad U(\\theta_{m,t}) = \\exp\\bigg(i \\frac{1}{2}\\theta_{m,t}^z Z_m\\bigg) \\exp\\bigg(i \\frac{1}{2}\\theta_{m,t}^y Y_m\\bigg) $$\n",
    "\n",
    "parameterized by $\\theta_t \\in {\\rm I\\!R}^{2n}$ and $\\theta_{i,t} \\in {\\rm I\\!R}^{2}$. Implement a feature map that uses entangling unitaries comprised of products of controlled-Z phase gates $CZ(i,j)$ between qubits $i$ and $j$.\n",
    "\n",
    "$$ U_{ent} = \\prod_{(i,j) \\in E} CZ(i,j) $$ "
   ]
  },
  {
   "cell_type": "code",
   "execution_count": null,
   "metadata": {},
   "outputs": [],
   "source": [
    "def ansatz(params):\n",
    "    \"\"\"VQC ansatz using single-qubits unitaries and entangling gates.\n",
    "    This is a full parametrization of 4 by 4 unitaries up to things that our measured observable Z_0 I_1 invariant.\n",
    "    See figure 7 in https://arxiv.org/pdf/quant-ph/0308006.pdf\n",
    "\n",
    "    Args:\n",
    "        params : shape (12,) array containing trainable parameters\n",
    "    \"\"\"\n",
    "    \n",
    "    qml.Rot(params[0], params[1], params[2], wires = 0)\n",
    "    qml.Rot(params[3], params[4], params[5], wires = 1)\n",
    "    \n",
    "    qml.CNOT(wires = [1,0])\n",
    "    \n",
    "    qml.RZ(params[6], wires = 0)\n",
    "    qml.RY(params[7], wires = 1)\n",
    "    \n",
    "    qml.CNOT(wires = [0,1])\n",
    "    \n",
    "    qml.RY(params[8], wires = 1)\n",
    "    \n",
    "    qml.CNOT(wires = [1,0])\n",
    "    \n",
    "    qml.Rot(params[9], params[10], params[11], wires = 0)"
   ]
  },
  {
   "cell_type": "code",
   "execution_count": null,
   "metadata": {},
   "outputs": [],
   "source": [
    "def circuit(params, x):\n",
    "    \"\"\"Havlicek et al. variational quantum circuit\n",
    "\n",
    "    Args:\n",
    "        params : shape (12,) tensor containing trainable parameters\n",
    "        x : shape (2,) tensor containing one input data vector\n",
    "\n",
    "    Returns:\n",
    "        shape(2**2,) tensor containing Z basis measurement probability on each qubit\n",
    "    \"\"\"\n",
    "\n",
    "    feature_map(encode_data(x))  # prepare initial feature map state\n",
    "    ansatz(params)  # apply discriminator circuit\n",
    "\n",
    "    return qml.probs(wires=[0,1])"
   ]
  },
  {
   "cell_type": "markdown",
   "metadata": {},
   "source": [
    "Define qnode using local simulator device"
   ]
  },
  {
   "cell_type": "code",
   "execution_count": null,
   "metadata": {},
   "outputs": [],
   "source": [
    "shots = 500  # number of circuit executions.\n",
    "\n",
    "dev_local = qml.device(\"default.qubit\", wires=2, shots=shots)\n",
    "\n",
    "qnode_local = qml.QNode(circuit, dev_local)"
   ]
  },
  {
   "cell_type": "markdown",
   "metadata": {},
   "source": [
    "Define qnode using remote simulator device via Amazon Braket"
   ]
  },
  {
   "cell_type": "code",
   "execution_count": 6,
   "metadata": {},
   "outputs": [
    {
     "ename": "ClientError",
     "evalue": "An error occurred (500) when calling the GetDevice operation (reached max retries: 4): ",
     "output_type": "error",
     "traceback": [
      "\u001b[0;31m---------------------------------------------------------------------------\u001b[0m",
      "\u001b[0;31mClientError\u001b[0m                               Traceback (most recent call last)",
      "Cell \u001b[0;32mIn [6], line 9\u001b[0m\n\u001b[1;32m      3\u001b[0m device_arn \u001b[38;5;241m=\u001b[39m \u001b[38;5;124m\"\u001b[39m\u001b[38;5;124marn:aws:braket:::device/quantum-simulator/amazon/sv1\u001b[39m\u001b[38;5;124m\"\u001b[39m                     \u001b[38;5;66;03m# SV1\u001b[39;00m\n\u001b[1;32m      4\u001b[0m \u001b[38;5;66;03m# device = AwsDevice('arn:aws:braket:::device/quantum-simulator/amazon/dm1')            #DM1\u001b[39;00m\n\u001b[1;32m      5\u001b[0m \u001b[38;5;66;03m# device = AwsDevice('arn:aws:braket:::device/qpu/ionq/ionQdevice')                     #IonQ\u001b[39;00m\n\u001b[1;32m      6\u001b[0m \u001b[38;5;66;03m# device = AwsDevice('arn:aws:braket:::device/qpu/rigetti/Aspen-11')                    #Rigetti Aspen-11\u001b[39;00m\n\u001b[1;32m      7\u001b[0m \u001b[38;5;66;03m# device = AwsDevice('arn:aws:braket:us-west-1::device/qpu/rigetti/Aspen-M-2')          #Rigetti Aspen M-2\u001b[39;00m\n\u001b[0;32m----> 9\u001b[0m dev_SV1 \u001b[38;5;241m=\u001b[39m \u001b[43mqml\u001b[49m\u001b[38;5;241;43m.\u001b[39;49m\u001b[43mdevice\u001b[49m\u001b[43m(\u001b[49m\u001b[38;5;124;43m\"\u001b[39;49m\u001b[38;5;124;43mbraket.aws.qubit\u001b[39;49m\u001b[38;5;124;43m\"\u001b[39;49m\u001b[43m,\u001b[49m\n\u001b[1;32m     10\u001b[0m \u001b[43m                     \u001b[49m\u001b[43mdevice_arn\u001b[49m\u001b[38;5;241;43m=\u001b[39;49m\u001b[43mdevice_arn\u001b[49m\u001b[43m,\u001b[49m\n\u001b[1;32m     11\u001b[0m \u001b[43m                     \u001b[49m\u001b[43mwires\u001b[49m\u001b[38;5;241;43m=\u001b[39;49m\u001b[38;5;241;43m2\u001b[39;49m\u001b[43m,\u001b[49m\n\u001b[1;32m     12\u001b[0m \u001b[43m                     \u001b[49m\u001b[43mparallel\u001b[49m\u001b[38;5;241;43m=\u001b[39;49m\u001b[38;5;28;43;01mTrue\u001b[39;49;00m\u001b[43m,\u001b[49m\n\u001b[1;32m     13\u001b[0m \u001b[43m                     \u001b[49m\u001b[43mmax_parallel\u001b[49m\u001b[38;5;241;43m=\u001b[39;49m\u001b[38;5;241;43m2\u001b[39;49m\u001b[43m,\u001b[49m\n\u001b[1;32m     14\u001b[0m \u001b[43m                     \u001b[49m\u001b[43mshots\u001b[49m\u001b[38;5;241;43m=\u001b[39;49m\u001b[43mshots\u001b[49m\u001b[43m)\u001b[49m\n\u001b[1;32m     16\u001b[0m qnode_SV1 \u001b[38;5;241m=\u001b[39m qml\u001b[38;5;241m.\u001b[39mQNode(circuit, dev_SV1)\n",
      "File \u001b[0;32m~/.qbraid/environments/haqs_dk5kt8/pyenv/lib/python3.9/site-packages/pennylane/__init__.py:320\u001b[0m, in \u001b[0;36mdevice\u001b[0;34m(name, *args, **kwargs)\u001b[0m\n\u001b[1;32m    314\u001b[0m     \u001b[38;5;28;01mraise\u001b[39;00m DeviceError(\n\u001b[1;32m    315\u001b[0m         \u001b[38;5;124mf\u001b[39m\u001b[38;5;124m\"\u001b[39m\u001b[38;5;124mThe \u001b[39m\u001b[38;5;132;01m{\u001b[39;00mname\u001b[38;5;132;01m}\u001b[39;00m\u001b[38;5;124m plugin requires PennyLane versions \u001b[39m\u001b[38;5;132;01m{\u001b[39;00mplugin_device_class\u001b[38;5;241m.\u001b[39mpennylane_requires\u001b[38;5;132;01m}\u001b[39;00m\u001b[38;5;124m, \u001b[39m\u001b[38;5;124m\"\u001b[39m\n\u001b[1;32m    316\u001b[0m         \u001b[38;5;124mf\u001b[39m\u001b[38;5;124m\"\u001b[39m\u001b[38;5;124mhowever PennyLane version \u001b[39m\u001b[38;5;132;01m{\u001b[39;00m__version__\u001b[38;5;132;01m}\u001b[39;00m\u001b[38;5;124m is installed.\u001b[39m\u001b[38;5;124m\"\u001b[39m\n\u001b[1;32m    317\u001b[0m     )\n\u001b[1;32m    319\u001b[0m \u001b[38;5;66;03m# Construct the device\u001b[39;00m\n\u001b[0;32m--> 320\u001b[0m dev \u001b[38;5;241m=\u001b[39m \u001b[43mplugin_device_class\u001b[49m\u001b[43m(\u001b[49m\u001b[38;5;241;43m*\u001b[39;49m\u001b[43margs\u001b[49m\u001b[43m,\u001b[49m\u001b[43m \u001b[49m\u001b[38;5;241;43m*\u001b[39;49m\u001b[38;5;241;43m*\u001b[39;49m\u001b[43moptions\u001b[49m\u001b[43m)\u001b[49m\n\u001b[1;32m    322\u001b[0m \u001b[38;5;66;03m# Once the device is constructed, we set its custom expansion function if\u001b[39;00m\n\u001b[1;32m    323\u001b[0m \u001b[38;5;66;03m# any custom decompositions were specified.\u001b[39;00m\n\u001b[1;32m    324\u001b[0m \u001b[38;5;28;01mif\u001b[39;00m custom_decomps \u001b[38;5;129;01mis\u001b[39;00m \u001b[38;5;129;01mnot\u001b[39;00m \u001b[38;5;28;01mNone\u001b[39;00m:\n",
      "File \u001b[0;32m~/.qbraid/environments/haqs_dk5kt8/pyenv/lib/python3.9/site-packages/braket/pennylane_plugin/braket_device.py:325\u001b[0m, in \u001b[0;36mBraketAwsQubitDevice.__init__\u001b[0;34m(self, wires, device_arn, s3_destination_folder, shots, poll_timeout_seconds, poll_interval_seconds, aws_session, parallel, max_parallel, max_connections, max_retries, **run_kwargs)\u001b[0m\n\u001b[1;32m    309\u001b[0m \u001b[38;5;28;01mdef\u001b[39;00m \u001b[38;5;21m__init__\u001b[39m(\n\u001b[1;32m    310\u001b[0m     \u001b[38;5;28mself\u001b[39m,\n\u001b[1;32m    311\u001b[0m     wires: Union[\u001b[38;5;28mint\u001b[39m, Iterable],\n\u001b[0;32m   (...)\u001b[0m\n\u001b[1;32m    323\u001b[0m     \u001b[38;5;241m*\u001b[39m\u001b[38;5;241m*\u001b[39mrun_kwargs,\n\u001b[1;32m    324\u001b[0m ):\n\u001b[0;32m--> 325\u001b[0m     device \u001b[38;5;241m=\u001b[39m \u001b[43mAwsDevice\u001b[49m\u001b[43m(\u001b[49m\u001b[43mdevice_arn\u001b[49m\u001b[43m,\u001b[49m\u001b[43m \u001b[49m\u001b[43maws_session\u001b[49m\u001b[38;5;241;43m=\u001b[39;49m\u001b[43maws_session\u001b[49m\u001b[43m)\u001b[49m\n\u001b[1;32m    326\u001b[0m     user_agent \u001b[38;5;241m=\u001b[39m \u001b[38;5;124mf\u001b[39m\u001b[38;5;124m\"\u001b[39m\u001b[38;5;124mBraketPennylanePlugin/\u001b[39m\u001b[38;5;132;01m{\u001b[39;00m__version__\u001b[38;5;132;01m}\u001b[39;00m\u001b[38;5;124m\"\u001b[39m\n\u001b[1;32m    327\u001b[0m     device\u001b[38;5;241m.\u001b[39maws_session\u001b[38;5;241m.\u001b[39madd_braket_user_agent(user_agent)\n",
      "File \u001b[0;32m~/.qbraid/environments/haqs_dk5kt8/pyenv/lib/python3.9/site-packages/braket/aws/aws_device.py:83\u001b[0m, in \u001b[0;36mAwsDevice.__init__\u001b[0;34m(self, arn, aws_session)\u001b[0m\n\u001b[1;32m     81\u001b[0m \u001b[38;5;28mself\u001b[39m\u001b[38;5;241m.\u001b[39m_topology_graph \u001b[38;5;241m=\u001b[39m \u001b[38;5;28;01mNone\u001b[39;00m\n\u001b[1;32m     82\u001b[0m \u001b[38;5;28mself\u001b[39m\u001b[38;5;241m.\u001b[39m_type \u001b[38;5;241m=\u001b[39m \u001b[38;5;28;01mNone\u001b[39;00m\n\u001b[0;32m---> 83\u001b[0m \u001b[38;5;28mself\u001b[39m\u001b[38;5;241m.\u001b[39m_aws_session \u001b[38;5;241m=\u001b[39m \u001b[38;5;28;43mself\u001b[39;49m\u001b[38;5;241;43m.\u001b[39;49m\u001b[43m_get_session_and_initialize\u001b[49m\u001b[43m(\u001b[49m\u001b[43maws_session\u001b[49m\u001b[43m \u001b[49m\u001b[38;5;129;43;01mor\u001b[39;49;00m\u001b[43m \u001b[49m\u001b[43mAwsSession\u001b[49m\u001b[43m(\u001b[49m\u001b[43m)\u001b[49m\u001b[43m)\u001b[49m\n",
      "File \u001b[0;32m~/.qbraid/environments/haqs_dk5kt8/pyenv/lib/python3.9/site-packages/braket/aws/aws_device.py:233\u001b[0m, in \u001b[0;36mAwsDevice._get_session_and_initialize\u001b[0;34m(self, session)\u001b[0m\n\u001b[1;32m    228\u001b[0m \u001b[38;5;28;01mdef\u001b[39;00m \u001b[38;5;21m_get_session_and_initialize\u001b[39m(\u001b[38;5;28mself\u001b[39m, session: AwsSession) \u001b[38;5;241m-\u001b[39m\u001b[38;5;241m>\u001b[39m AwsSession:\n\u001b[1;32m    229\u001b[0m     device_region \u001b[38;5;241m=\u001b[39m AwsDevice\u001b[38;5;241m.\u001b[39mget_device_region(\u001b[38;5;28mself\u001b[39m\u001b[38;5;241m.\u001b[39m_arn)\n\u001b[1;32m    230\u001b[0m     \u001b[38;5;28;01mreturn\u001b[39;00m (\n\u001b[1;32m    231\u001b[0m         \u001b[38;5;28mself\u001b[39m\u001b[38;5;241m.\u001b[39m_get_regional_device_session(session)\n\u001b[1;32m    232\u001b[0m         \u001b[38;5;28;01mif\u001b[39;00m device_region\n\u001b[0;32m--> 233\u001b[0m         \u001b[38;5;28;01melse\u001b[39;00m \u001b[38;5;28;43mself\u001b[39;49m\u001b[38;5;241;43m.\u001b[39;49m\u001b[43m_get_non_regional_device_session\u001b[49m\u001b[43m(\u001b[49m\u001b[43msession\u001b[49m\u001b[43m)\u001b[49m\n\u001b[1;32m    234\u001b[0m     )\n",
      "File \u001b[0;32m~/.qbraid/environments/haqs_dk5kt8/pyenv/lib/python3.9/site-packages/braket/aws/aws_device.py:261\u001b[0m, in \u001b[0;36mAwsDevice._get_non_regional_device_session\u001b[0;34m(self, session)\u001b[0m\n\u001b[1;32m    259\u001b[0m             \u001b[38;5;28;01mraise\u001b[39;00m \u001b[38;5;167;01mValueError\u001b[39;00m(\u001b[38;5;124mf\u001b[39m\u001b[38;5;124m\"\u001b[39m\u001b[38;5;124mSimulator \u001b[39m\u001b[38;5;124m'\u001b[39m\u001b[38;5;132;01m{\u001b[39;00m\u001b[38;5;28mself\u001b[39m\u001b[38;5;241m.\u001b[39m_arn\u001b[38;5;132;01m}\u001b[39;00m\u001b[38;5;124m'\u001b[39m\u001b[38;5;124m not found in \u001b[39m\u001b[38;5;124m'\u001b[39m\u001b[38;5;132;01m{\u001b[39;00mcurrent_region\u001b[38;5;132;01m}\u001b[39;00m\u001b[38;5;124m'\u001b[39m\u001b[38;5;124m\"\u001b[39m)\n\u001b[1;32m    260\u001b[0m     \u001b[38;5;28;01melse\u001b[39;00m:\n\u001b[0;32m--> 261\u001b[0m         \u001b[38;5;28;01mraise\u001b[39;00m e\n\u001b[1;32m    262\u001b[0m \u001b[38;5;66;03m# Search remaining regions for QPU\u001b[39;00m\n\u001b[1;32m    263\u001b[0m \u001b[38;5;28;01mfor\u001b[39;00m region \u001b[38;5;129;01min\u001b[39;00m \u001b[38;5;28mfrozenset\u001b[39m(AwsDevice\u001b[38;5;241m.\u001b[39mREGIONS) \u001b[38;5;241m-\u001b[39m {current_region}:\n",
      "File \u001b[0;32m~/.qbraid/environments/haqs_dk5kt8/pyenv/lib/python3.9/site-packages/braket/aws/aws_device.py:254\u001b[0m, in \u001b[0;36mAwsDevice._get_non_regional_device_session\u001b[0;34m(self, session)\u001b[0m\n\u001b[1;32m    252\u001b[0m current_region \u001b[38;5;241m=\u001b[39m session\u001b[38;5;241m.\u001b[39mregion\n\u001b[1;32m    253\u001b[0m \u001b[38;5;28;01mtry\u001b[39;00m:\n\u001b[0;32m--> 254\u001b[0m     \u001b[38;5;28;43mself\u001b[39;49m\u001b[38;5;241;43m.\u001b[39;49m\u001b[43m_populate_properties\u001b[49m\u001b[43m(\u001b[49m\u001b[43msession\u001b[49m\u001b[43m)\u001b[49m\n\u001b[1;32m    255\u001b[0m     \u001b[38;5;28;01mreturn\u001b[39;00m session\n\u001b[1;32m    256\u001b[0m \u001b[38;5;28;01mexcept\u001b[39;00m ClientError \u001b[38;5;28;01mas\u001b[39;00m e:\n",
      "File \u001b[0;32m~/.qbraid/environments/haqs_dk5kt8/pyenv/lib/python3.9/site-packages/braket/aws/aws_device.py:274\u001b[0m, in \u001b[0;36mAwsDevice._populate_properties\u001b[0;34m(self, session)\u001b[0m\n\u001b[1;32m    273\u001b[0m \u001b[38;5;28;01mdef\u001b[39;00m \u001b[38;5;21m_populate_properties\u001b[39m(\u001b[38;5;28mself\u001b[39m, session: AwsSession) \u001b[38;5;241m-\u001b[39m\u001b[38;5;241m>\u001b[39m \u001b[38;5;28;01mNone\u001b[39;00m:\n\u001b[0;32m--> 274\u001b[0m     metadata \u001b[38;5;241m=\u001b[39m \u001b[43msession\u001b[49m\u001b[38;5;241;43m.\u001b[39;49m\u001b[43mget_device\u001b[49m\u001b[43m(\u001b[49m\u001b[38;5;28;43mself\u001b[39;49m\u001b[38;5;241;43m.\u001b[39;49m\u001b[43m_arn\u001b[49m\u001b[43m)\u001b[49m\n\u001b[1;32m    275\u001b[0m     \u001b[38;5;28mself\u001b[39m\u001b[38;5;241m.\u001b[39m_name \u001b[38;5;241m=\u001b[39m metadata\u001b[38;5;241m.\u001b[39mget(\u001b[38;5;124m\"\u001b[39m\u001b[38;5;124mdeviceName\u001b[39m\u001b[38;5;124m\"\u001b[39m)\n\u001b[1;32m    276\u001b[0m     \u001b[38;5;28mself\u001b[39m\u001b[38;5;241m.\u001b[39m_status \u001b[38;5;241m=\u001b[39m metadata\u001b[38;5;241m.\u001b[39mget(\u001b[38;5;124m\"\u001b[39m\u001b[38;5;124mdeviceStatus\u001b[39m\u001b[38;5;124m\"\u001b[39m)\n",
      "File \u001b[0;32m~/.qbraid/environments/haqs_dk5kt8/pyenv/lib/python3.9/site-packages/braket/aws/aws_session.py:598\u001b[0m, in \u001b[0;36mAwsSession.get_device\u001b[0;34m(self, arn)\u001b[0m\n\u001b[1;32m    588\u001b[0m \u001b[38;5;28;01mdef\u001b[39;00m \u001b[38;5;21mget_device\u001b[39m(\u001b[38;5;28mself\u001b[39m, arn: \u001b[38;5;28mstr\u001b[39m) \u001b[38;5;241m-\u001b[39m\u001b[38;5;241m>\u001b[39m Dict[\u001b[38;5;28mstr\u001b[39m, Any]:\n\u001b[1;32m    589\u001b[0m     \u001b[38;5;124;03m\"\"\"\u001b[39;00m\n\u001b[1;32m    590\u001b[0m \u001b[38;5;124;03m    Calls the Amazon Braket `get_device` API to retrieve device metadata.\u001b[39;00m\n\u001b[1;32m    591\u001b[0m \n\u001b[0;32m   (...)\u001b[0m\n\u001b[1;32m    596\u001b[0m \u001b[38;5;124;03m        Dict[str, Any]: The response from the Amazon Braket `GetDevice` operation.\u001b[39;00m\n\u001b[1;32m    597\u001b[0m \u001b[38;5;124;03m    \"\"\"\u001b[39;00m\n\u001b[0;32m--> 598\u001b[0m     \u001b[38;5;28;01mreturn\u001b[39;00m \u001b[38;5;28;43mself\u001b[39;49m\u001b[38;5;241;43m.\u001b[39;49m\u001b[43mbraket_client\u001b[49m\u001b[38;5;241;43m.\u001b[39;49m\u001b[43mget_device\u001b[49m\u001b[43m(\u001b[49m\u001b[43mdeviceArn\u001b[49m\u001b[38;5;241;43m=\u001b[39;49m\u001b[43marn\u001b[49m\u001b[43m)\u001b[49m\n",
      "File \u001b[0;32m~/.qbraid/environments/haqs_dk5kt8/pyenv/lib/python3.9/site-packages/botocore/client.py:514\u001b[0m, in \u001b[0;36mClientCreator._create_api_method.<locals>._api_call\u001b[0;34m(self, *args, **kwargs)\u001b[0m\n\u001b[1;32m    510\u001b[0m     \u001b[38;5;28;01mraise\u001b[39;00m \u001b[38;5;167;01mTypeError\u001b[39;00m(\n\u001b[1;32m    511\u001b[0m         \u001b[38;5;124mf\u001b[39m\u001b[38;5;124m\"\u001b[39m\u001b[38;5;132;01m{\u001b[39;00mpy_operation_name\u001b[38;5;132;01m}\u001b[39;00m\u001b[38;5;124m() only accepts keyword arguments.\u001b[39m\u001b[38;5;124m\"\u001b[39m\n\u001b[1;32m    512\u001b[0m     )\n\u001b[1;32m    513\u001b[0m \u001b[38;5;66;03m# The \"self\" in this scope is referring to the BaseClient.\u001b[39;00m\n\u001b[0;32m--> 514\u001b[0m \u001b[38;5;28;01mreturn\u001b[39;00m \u001b[38;5;28;43mself\u001b[39;49m\u001b[38;5;241;43m.\u001b[39;49m\u001b[43m_make_api_call\u001b[49m\u001b[43m(\u001b[49m\u001b[43moperation_name\u001b[49m\u001b[43m,\u001b[49m\u001b[43m \u001b[49m\u001b[43mkwargs\u001b[49m\u001b[43m)\u001b[49m\n",
      "File \u001b[0;32m~/.qbraid/environments/haqs_dk5kt8/pyenv/lib/python3.9/site-packages/botocore/client.py:938\u001b[0m, in \u001b[0;36mBaseClient._make_api_call\u001b[0;34m(self, operation_name, api_params)\u001b[0m\n\u001b[1;32m    936\u001b[0m     error_code \u001b[38;5;241m=\u001b[39m parsed_response\u001b[38;5;241m.\u001b[39mget(\u001b[38;5;124m\"\u001b[39m\u001b[38;5;124mError\u001b[39m\u001b[38;5;124m\"\u001b[39m, {})\u001b[38;5;241m.\u001b[39mget(\u001b[38;5;124m\"\u001b[39m\u001b[38;5;124mCode\u001b[39m\u001b[38;5;124m\"\u001b[39m)\n\u001b[1;32m    937\u001b[0m     error_class \u001b[38;5;241m=\u001b[39m \u001b[38;5;28mself\u001b[39m\u001b[38;5;241m.\u001b[39mexceptions\u001b[38;5;241m.\u001b[39mfrom_code(error_code)\n\u001b[0;32m--> 938\u001b[0m     \u001b[38;5;28;01mraise\u001b[39;00m error_class(parsed_response, operation_name)\n\u001b[1;32m    939\u001b[0m \u001b[38;5;28;01melse\u001b[39;00m:\n\u001b[1;32m    940\u001b[0m     \u001b[38;5;28;01mreturn\u001b[39;00m parsed_response\n",
      "\u001b[0;31mClientError\u001b[0m: An error occurred (500) when calling the GetDevice operation (reached max retries: 4): "
     ]
    }
   ],
   "source": [
    "shots = 500  # number of circuit executions.\n",
    "\n",
    "device_arn = \"arn:aws:braket:::device/quantum-simulator/amazon/sv1\"                     # SV1\n",
    "# device = AwsDevice('arn:aws:braket:::device/quantum-simulator/amazon/dm1')            #DM1\n",
    "# device = AwsDevice('arn:aws:braket:::device/qpu/ionq/ionQdevice')                     #IonQ\n",
    "# device = AwsDevice('arn:aws:braket:::device/qpu/rigetti/Aspen-11')                    #Rigetti Aspen-11\n",
    "# device = AwsDevice('arn:aws:braket:us-west-1::device/qpu/rigetti/Aspen-M-2')          #Rigetti Aspen M-2\n",
    "\n",
    "dev_SV1 = qml.device(\"braket.aws.qubit\",\n",
    "                     device_arn=device_arn,\n",
    "                     wires=2,\n",
    "                     parallel=True,\n",
    "                     max_parallel=2,\n",
    "                     shots=shots)\n",
    "\n",
    "qnode_SV1 = qml.QNode(circuit, dev_SV1)"
   ]
  },
  {
   "cell_type": "code",
   "execution_count": null,
   "metadata": {},
   "outputs": [],
   "source": [
    "# np.random.seed(42) # uncomment to fix the random choice of parameters\n",
    "params = 2*np.pi*np.random.rand(12, requires_grad=True) # random initial circuit parameters"
   ]
  },
  {
   "cell_type": "code",
   "execution_count": null,
   "metadata": {},
   "outputs": [],
   "source": [
    "print(qml.draw(qnode_local)(params, X_train[0]))  # example parameterized circuit"
   ]
  },
  {
   "cell_type": "markdown",
   "metadata": {},
   "source": [
    "## Train model"
   ]
  },
  {
   "cell_type": "markdown",
   "metadata": {},
   "source": [
    "The probability that the label $m(\\textbf{x}) = y$ is assigned incorrectly is approximated by\n",
    "\n",
    "$$ \\text{Pr}(\\tilde{m}(\\textbf{x}) \\neq m(\\textbf{x})) \\approx \\text{sig}\\bigg( \\frac{\\sqrt{R}\\big( \\frac{1}{2} - \\big( \\hat{p}_y(\\textbf{x})+ \\frac{yb}{2} \\big) \\big)}{\\sqrt{2(1-\\hat{p}_y(\\textbf{x}))\\hat{p}_y(\\textbf{x})}} \\bigg) $$ \n",
    "\n",
    "where $\\text{sig}(x) = (1+ e^{-x})^{-1}$ is the sigmoid function."
   ]
  },
  {
   "cell_type": "code",
   "execution_count": null,
   "metadata": {},
   "outputs": [],
   "source": [
    "def err_prob(params, x, y, R, bias=0):\n",
    "    \"\"\"Error probability of assigning a wrong label\n",
    "\n",
    "    Args:\n",
    "        x : shape (2,) tensor containing one input data vector\n",
    "        y : shape (1,) tensor containing associated label\n",
    "        params : shape (`depth` + 1, `n_wires`, 3) tensor containing trainable parameters\n",
    "        R : int number of circuit evaluations (shots)\n",
    "        bias : optional bias parameter in [-1,+1]\n",
    "\n",
    "    Returns:\n",
    "        probability that the VQC computed label m(x) = y' is assigned incorrectly\n",
    "    \"\"\"\n",
    "\n",
    "    bprobs = qnode_local(params, x)  # probabilities for each basis state\n",
    "    cprobs = (bprobs[0] + bprobs[1], bprobs[2] + bprobs[3])  # probabilities for each eigenstate of parity Z_1 I_2. (Note the change from Havlicek et al.)\n",
    "    prob_correct = cprobs[int(0.5 - 0.5 * y)]  # probability of choosing correct label\n",
    "\n",
    "    # Intermediate evaluation of equation from supplement using derived p_y(x) i.e. prob_correct\n",
    "    val = (np.sqrt(R) * (0.5 - prob_correct - 0.5 * y * bias)) / (\n",
    "        np.sqrt(2 * (1 - prob_correct) * prob_correct)\n",
    "    )\n",
    "\n",
    "    return 1 / (1 + np.exp(-val))  # binomial CDF for R >> 1 approximated using sigmoid function"
   ]
  },
  {
   "cell_type": "markdown",
   "metadata": {},
   "source": [
    "We define the empirical risk $R_{\\text{emp}}(\\theta)$ in terms of the error probability $\\text{Pr}(\\tilde{m}(\\textbf{x} \\neq m(\\textbf{x}))$ of assigning the incorrect label, based on the decision rule $\\tilde{m}(\\textbf{s}) = \\text{argmax}_y\\{ \\hat{p}_y(\\textbf{s}) \\}$ after R shots, averaged over the samples in the training set $T$. In the binary case this decision rule simplifies to $\\tilde{m}(\\textbf{x}) = y$ whenever $\\hat{p}_y(\\textbf{x}) > \\hat{p}_{-y}(\\textbf{x}) - yb$.\n",
    "\n",
    "$$ R_{\\text{emp}}(\\theta) = \\frac{1}{|T|} \\sum_{\\textbf{x} \\in T} \\text{Pr}(\\tilde{m}(\\textbf{x}) \\neq m(\\textbf{x})).$$"
   ]
  },
  {
   "cell_type": "code",
   "execution_count": null,
   "metadata": {},
   "outputs": [],
   "source": [
    "def cost(params, Xs, Ys, R):\n",
    "    \"\"\"Cost function for circuit optimization\n",
    "\n",
    "    Args:\n",
    "        params : shape (12,) tensor containing trainable parameters\n",
    "        Xs : shape (n,2) tensor containing input data vectors\n",
    "        Ys : shape (n,) tensor containing associated labels\n",
    "        R : int number of circuit evaluations (shots)\n",
    "\n",
    "    Returns:\n",
    "        the empirical risk i.e. the error probability averaged over all data points\n",
    "\n",
    "    \"\"\"\n",
    "\n",
    "    ep_sum = 0  # initialize error probabilities sum\n",
    "    for i in range(Xs.shape[0]):  # compute sum of error probabilities over all data points\n",
    "        ep_sum += err_prob(params, Xs[i], Ys[i], R)\n",
    "\n",
    "    return ep_sum / Xs.shape[0]  # return average over all data points"
   ]
  },
  {
   "cell_type": "code",
   "execution_count": null,
   "metadata": {},
   "outputs": [],
   "source": [
    "# Set training hyperparameters (modify as needed)\n",
    "iterations = 60  # number of training iterations\n",
    "batch_size = 10  # number of training examples used in one iteration\n",
    "stepsize = 0.5  # learning rate, positive value between 0.0 and 1.0\n",
    "\n",
    "# Gradient-based training\n",
    "costs = []\n",
    "times = []\n",
    "\n",
    "opt = qml.GradientDescentOptimizer(stepsize)\n",
    "\n",
    "for i in tqdm(range(iterations), desc=\"training\", leave=False):\n",
    "\n",
    "    # Generate the batch\n",
    "    batch_index = np.random.randint(0, X_train.shape[0], (batch_size,))\n",
    "    X_batch = X_train[batch_index]\n",
    "    Y_batch = Y_train[batch_index]\n",
    "\n",
    "    t0 = time.time()\n",
    "\n",
    "    # Update parameters by a single step.\n",
    "    params = opt.step(lambda var: cost(var, X_batch, Y_batch, shots), params)\n",
    "\n",
    "    t1 = time.time()\n",
    "\n",
    "    # Compute cost\n",
    "    cost_current = cost(params, X_train, Y_train, shots)\n",
    "\n",
    "    costs.append(cost_current)\n",
    "    times.append(t1 - t0)\n",
    "\n",
    "print(f\"Initial cost: {round(float(costs[0]), 4)}\")\n",
    "print(f\"Cost at step {iterations}: {round(float(costs[-1]), 4)}\")\n",
    "print(f\"Avg time per step: {round(sum(times)/len(times), 4)} sec\")\n",
    "\n",
    "# Output folder\n",
    "time_str = time.strftime(\"%Y%m%d-%H%M%S\")\n",
    "VQC_OUT = f\"vqc/{time_str}\"\n",
    "os.makedirs(VQC_OUT, exist_ok=True)\n",
    "\n",
    "params_csv = f\"{VQC_OUT}/{TEAM_NAME}_params.csv\"\n",
    "costs_csv = f\"{VQC_OUT}/{TEAM_NAME}_costs.csv\"\n",
    "\n",
    "np.savetxt(params_csv, params)\n",
    "print(f\"\\nParameters saved to {params_csv}\")\n",
    "\n",
    "np.savetxt(\n",
    "    costs_csv,\n",
    "    np.vstack((range(iterations), costs[:iterations])).T,\n",
    "    delimiter=\", \",\n",
    ")\n",
    "print(f\"Costs saved to {costs_csv}\")"
   ]
  },
  {
   "cell_type": "code",
   "execution_count": null,
   "metadata": {},
   "outputs": [],
   "source": [
    "# Plot loss\n",
    "loss_png = f\"{VQC_OUT}/{TEAM_NAME}_loss.png\"\n",
    "\n",
    "fig, ax = plt.subplots()\n",
    "ax.set_title(\"VQC training\")\n",
    "ax.set_xlabel(\"Trial Step\")\n",
    "ax.set_ylabel(\"$R_{emp}$\")\n",
    "ax.plot(range(1, iterations + 1), costs)\n",
    "plt.savefig(loss_png)\n",
    "plt.show()\n",
    "fig, ax = plt.subplots()\n",
    "ax.set_xlabel(\"Time elapsed\")\n",
    "ax.set_ylabel(\"$R_{emp}$\")\n",
    "ax.plot(np.cumsum(times), costs)\n",
    "plt.show()"
   ]
  },
  {
   "cell_type": "code",
   "execution_count": null,
   "metadata": {},
   "outputs": [],
   "source": [
    "# Load trained parameters\n",
    "final_params = np.loadtxt(params_csv)"
   ]
  },
  {
   "cell_type": "code",
   "execution_count": null,
   "metadata": {},
   "outputs": [],
   "source": [
    "# Calculate accuracy\n",
    "Y_pred = np.zeros(shape=Y_test.shape)\n",
    "\n",
    "for ind, x in enumerate(X_test):\n",
    "\n",
    "    # How many of the qubit states are orthogonal?\n",
    "    bprobs = qnode_SV1(final_params, x)  # probabilities for each basis state\n",
    "    cprobs = (bprobs[0] + bprobs[1], bprobs[2] + bprobs[3])  # probabilities for each eigenstate of parity Z_1 I_2 (Note the change from Havlicek et al.)\n",
    "\n",
    "    # out of the majority of the number shots,\n",
    "    # classify +1 for orthogonal and -1 for correspondence\n",
    "    if cprobs[0] >= 0.5:\n",
    "        Y_pred[ind] = 1.0\n",
    "    else:\n",
    "        Y_pred[ind] = -1.0\n",
    "\n",
    "preds = [1 if Y_pred[i] == Y_test[i] else 0 for i in range(len(Y_pred))]\n",
    "\n",
    "n_preds = len(Y_pred)\n",
    "n_correct = sum(preds)\n",
    "n_incorrect = n_preds - n_correct\n",
    "accuracy = n_correct / n_preds\n",
    "\n",
    "print(f\"Accuracy: {round(accuracy*100,2)}%\")\n",
    "print(f\"{n_incorrect} incorrect out of {n_preds}.\")"
   ]
  }
 ],
 "metadata": {
  "kernelspec": {
   "display_name": "Python 3 [HAQS-22]",
   "language": "python",
   "name": "python3_haqs_dk5kt8"
  },
  "language_info": {
   "codemirror_mode": {
    "name": "ipython",
    "version": 3
   },
   "file_extension": ".py",
   "mimetype": "text/x-python",
   "name": "python",
   "nbconvert_exporter": "python",
   "pygments_lexer": "ipython3",
   "version": "3.9.10"
  }
 },
 "nbformat": 4,
 "nbformat_minor": 4
}
